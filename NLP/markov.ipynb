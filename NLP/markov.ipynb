{
 "cells": [
  {
   "cell_type": "markdown",
   "metadata": {
    "colab_type": "text",
    "id": "T5-WLKn0yr3p"
   },
   "source": [
    "マルコフ連鎖を利用して、自動作文に挑戦する"
   ]
  },
  {
   "cell_type": "markdown",
   "metadata": {
    "colab_type": "text",
    "id": "vMFsZV-Tyv9b"
   },
   "source": [
    "markov.py"
   ]
  },
  {
   "cell_type": "code",
   "execution_count": 1,
   "metadata": {
    "colab": {
     "base_uri": "https://localhost:8080/",
     "height": 2196
    },
    "colab_type": "code",
    "id": "jdB-cBLyyk2y",
    "outputId": "7b6b1176-a6f3-4708-88b9-26d7b6e36c3c"
   },
   "outputs": [
    {
     "name": "stdout",
     "output_type": "stream",
     "text": [
      "Reading package lists... Done\n",
      "Building dependency tree       \n",
      "Reading state information... Done\n",
      "libmecab-dev is already the newest version (0.996-5).\n",
      "mecab-ipadic is already the newest version (2.7.0-20070801+main-1).\n",
      "The following NEW packages will be installed:\n",
      "  mecab mecab-ipadic-utf8\n",
      "0 upgraded, 2 newly installed, 0 to remove and 5 not upgraded.\n",
      "Need to get 135 kB of archives.\n",
      "After this operation, 990 kB of additional disk space will be used.\n",
      "Get:1 http://archive.ubuntu.com/ubuntu bionic/universe amd64 mecab amd64 0.996-5 [132 kB]\n",
      "Get:2 http://archive.ubuntu.com/ubuntu bionic/universe amd64 mecab-ipadic-utf8 all 2.7.0-20070801+main-1 [3,522 B]\n",
      "Fetched 135 kB in 1s (151 kB/s)\n",
      "Selecting previously unselected package mecab.\n",
      "(Reading database ... 22903 files and directories currently installed.)\n",
      "Preparing to unpack .../mecab_0.996-5_amd64.deb ...\n",
      "Unpacking mecab (0.996-5) ...\n",
      "Selecting previously unselected package mecab-ipadic-utf8.\n",
      "Preparing to unpack .../mecab-ipadic-utf8_2.7.0-20070801+main-1_all.deb ...\n",
      "Unpacking mecab-ipadic-utf8 (2.7.0-20070801+main-1) ...\n",
      "Setting up mecab-ipadic-utf8 (2.7.0-20070801+main-1) ...\n",
      "Compiling IPA dictionary for Mecab.  This takes long time...\n",
      "reading /usr/share/mecab/dic/ipadic/unk.def ... 40\n",
      "emitting double-array: 100% |###########################################| \n",
      "/usr/share/mecab/dic/ipadic/model.def is not found. skipped.\n",
      "reading /usr/share/mecab/dic/ipadic/Noun.demonst.csv ... 120\n",
      "reading /usr/share/mecab/dic/ipadic/Verb.csv ... 130750\n",
      "reading /usr/share/mecab/dic/ipadic/Prefix.csv ... 221\n",
      "reading /usr/share/mecab/dic/ipadic/Noun.name.csv ... 34202\n",
      "reading /usr/share/mecab/dic/ipadic/Filler.csv ... 19\n",
      "reading /usr/share/mecab/dic/ipadic/Adj.csv ... 27210\n",
      "reading /usr/share/mecab/dic/ipadic/Postp-col.csv ... 91\n",
      "reading /usr/share/mecab/dic/ipadic/Noun.place.csv ... 72999\n",
      "reading /usr/share/mecab/dic/ipadic/Conjunction.csv ... 171\n",
      "reading /usr/share/mecab/dic/ipadic/Adverb.csv ... 3032\n",
      "reading /usr/share/mecab/dic/ipadic/Noun.adverbal.csv ... 795\n",
      "reading /usr/share/mecab/dic/ipadic/Noun.csv ... 60477\n",
      "reading /usr/share/mecab/dic/ipadic/Interjection.csv ... 252\n",
      "reading /usr/share/mecab/dic/ipadic/Noun.org.csv ... 16668\n",
      "reading /usr/share/mecab/dic/ipadic/Others.csv ... 2\n",
      "reading /usr/share/mecab/dic/ipadic/Noun.others.csv ... 151\n",
      "reading /usr/share/mecab/dic/ipadic/Noun.verbal.csv ... 12146\n",
      "reading /usr/share/mecab/dic/ipadic/Auxil.csv ... 199\n",
      "reading /usr/share/mecab/dic/ipadic/Noun.nai.csv ... 42\n",
      "reading /usr/share/mecab/dic/ipadic/Noun.number.csv ... 42\n",
      "reading /usr/share/mecab/dic/ipadic/Symbol.csv ... 208\n",
      "reading /usr/share/mecab/dic/ipadic/Suffix.csv ... 1393\n",
      "reading /usr/share/mecab/dic/ipadic/Postp.csv ... 146\n",
      "reading /usr/share/mecab/dic/ipadic/Noun.adjv.csv ... 3328\n",
      "reading /usr/share/mecab/dic/ipadic/Noun.proper.csv ... 27327\n",
      "reading /usr/share/mecab/dic/ipadic/Adnominal.csv ... 135\n",
      "emitting double-array: 100% |###########################################| \n",
      "reading /usr/share/mecab/dic/ipadic/matrix.def ... 1316x1316\n",
      "emitting matrix      : 100% |###########################################| \n",
      "\n",
      "done!\n",
      "update-alternatives: using /var/lib/mecab/dic/ipadic-utf8 to provide /var/lib/mecab/dic/debian (mecab-dictionary) in auto mode\n",
      "Setting up mecab (0.996-5) ...\n",
      "Compiling IPA dictionary for Mecab.  This takes long time...\n",
      "reading /usr/share/mecab/dic/ipadic/unk.def ... 40\n",
      "emitting double-array: 100% |###########################################| \n",
      "/usr/share/mecab/dic/ipadic/model.def is not found. skipped.\n",
      "reading /usr/share/mecab/dic/ipadic/Noun.demonst.csv ... 120\n",
      "reading /usr/share/mecab/dic/ipadic/Verb.csv ... 130750\n",
      "reading /usr/share/mecab/dic/ipadic/Prefix.csv ... 221\n",
      "reading /usr/share/mecab/dic/ipadic/Noun.name.csv ... 34202\n",
      "reading /usr/share/mecab/dic/ipadic/Filler.csv ... 19\n",
      "reading /usr/share/mecab/dic/ipadic/Adj.csv ... 27210\n",
      "reading /usr/share/mecab/dic/ipadic/Postp-col.csv ... 91\n",
      "reading /usr/share/mecab/dic/ipadic/Noun.place.csv ... 72999\n",
      "reading /usr/share/mecab/dic/ipadic/Conjunction.csv ... 171\n",
      "reading /usr/share/mecab/dic/ipadic/Adverb.csv ... 3032\n",
      "reading /usr/share/mecab/dic/ipadic/Noun.adverbal.csv ... 795\n",
      "reading /usr/share/mecab/dic/ipadic/Noun.csv ... 60477\n",
      "reading /usr/share/mecab/dic/ipadic/Interjection.csv ... 252\n",
      "reading /usr/share/mecab/dic/ipadic/Noun.org.csv ... 16668\n",
      "reading /usr/share/mecab/dic/ipadic/Others.csv ... 2\n",
      "reading /usr/share/mecab/dic/ipadic/Noun.others.csv ... 151\n",
      "reading /usr/share/mecab/dic/ipadic/Noun.verbal.csv ... 12146\n",
      "reading /usr/share/mecab/dic/ipadic/Auxil.csv ... 199\n",
      "reading /usr/share/mecab/dic/ipadic/Noun.nai.csv ... 42\n",
      "reading /usr/share/mecab/dic/ipadic/Noun.number.csv ... 42\n",
      "reading /usr/share/mecab/dic/ipadic/Symbol.csv ... 208\n",
      "reading /usr/share/mecab/dic/ipadic/Suffix.csv ... 1393\n",
      "reading /usr/share/mecab/dic/ipadic/Postp.csv ... 146\n",
      "reading /usr/share/mecab/dic/ipadic/Noun.adjv.csv ... 3328\n",
      "reading /usr/share/mecab/dic/ipadic/Noun.proper.csv ... 27327\n",
      "reading /usr/share/mecab/dic/ipadic/Adnominal.csv ... 135\n",
      "emitting double-array: 100% |###########################################| \n",
      "reading /usr/share/mecab/dic/ipadic/matrix.def ... 1316x1316\n",
      "emitting matrix      : 100% |###########################################| \n",
      "\n",
      "done!\n",
      "Collecting mecab-python3\n",
      "  Using cached https://files.pythonhosted.org/packages/ac/48/295efe525df40cbc2173748eb869290e81a57e835bc41f6d3834fc5dad5f/mecab-python3-0.996.1.tar.gz\n",
      "Building wheels for collected packages: mecab-python3\n",
      "  Running setup.py bdist_wheel for mecab-python3 ... \u001b[?25l-\b \berror\n",
      "  Complete output from command /usr/bin/python3 -u -c \"import setuptools, tokenize;__file__='/tmp/pip-install-58gq_n9q/mecab-python3/setup.py';f=getattr(tokenize, 'open', open)(__file__);code=f.read().replace('\\r\\n', '\\n');f.close();exec(compile(code, __file__, 'exec'))\" bdist_wheel -d /tmp/pip-wheel-7kqmrg69 --python-tag cp36:\n",
      "  running bdist_wheel\n",
      "  running build\n",
      "  running build_py\n",
      "  running build_ext\n",
      "  building '_MeCab' extension\n",
      "  swigging MeCab.i to MeCab_wrap.cpp\n",
      "  swig -python -shadow -c++ -I/usr/include -o MeCab_wrap.cpp MeCab.i\n",
      "  unable to execute 'swig': No such file or directory\n",
      "  error: command 'swig' failed with exit status 1\n",
      "  \n",
      "  ----------------------------------------\n",
      "\u001b[31m  Failed building wheel for mecab-python3\u001b[0m\n",
      "\u001b[?25h  Running setup.py clean for mecab-python3\n",
      "Failed to build mecab-python3\n",
      "Installing collected packages: mecab-python3\n",
      "  Running setup.py install for mecab-python3 ... \u001b[?25l-\b \berror\n",
      "    Complete output from command /usr/bin/python3 -u -c \"import setuptools, tokenize;__file__='/tmp/pip-install-58gq_n9q/mecab-python3/setup.py';f=getattr(tokenize, 'open', open)(__file__);code=f.read().replace('\\r\\n', '\\n');f.close();exec(compile(code, __file__, 'exec'))\" install --record /tmp/pip-record-zvewx5u1/install-record.txt --single-version-externally-managed --compile:\n",
      "    running install\n",
      "    running build\n",
      "    running build_py\n",
      "    running build_ext\n",
      "    building '_MeCab' extension\n",
      "    swigging MeCab.i to MeCab_wrap.cpp\n",
      "    swig -python -shadow -c++ -I/usr/include -o MeCab_wrap.cpp MeCab.i\n",
      "    unable to execute 'swig': No such file or directory\n",
      "    error: command 'swig' failed with exit status 1\n",
      "    \n",
      "    ----------------------------------------\n",
      "\u001b[31mCommand \"/usr/bin/python3 -u -c \"import setuptools, tokenize;__file__='/tmp/pip-install-58gq_n9q/mecab-python3/setup.py';f=getattr(tokenize, 'open', open)(__file__);code=f.read().replace('\\r\\n', '\\n');f.close();exec(compile(code, __file__, 'exec'))\" install --record /tmp/pip-record-zvewx5u1/install-record.txt --single-version-externally-managed --compile\" failed with error code 1 in /tmp/pip-install-58gq_n9q/mecab-python3/\u001b[0m\n",
      "\u001b[?25h"
     ]
    }
   ],
   "source": [
    "!apt-get install  mecab libmecab-dev mecab-ipadic mecab-ipadic-utf8\n",
    "!pip install mecab-python3"
   ]
  },
  {
   "cell_type": "code",
   "execution_count": null,
   "metadata": {
    "colab": {
     "base_uri": "https://localhost:8080/",
     "height": 136
    },
    "colab_type": "code",
    "id": "G6AdrLnZ-2Uk",
    "outputId": "6930b339-4fc9-4305-da84-23d4bc797000"
   },
   "outputs": [],
   "source": [
    "!mecab"
   ]
  },
  {
   "cell_type": "code",
   "execution_count": 3,
   "metadata": {
    "colab": {
     "base_uri": "https://localhost:8080/",
     "height": 372
    },
    "colab_type": "code",
    "id": "wXj6Xb89zAc7",
    "outputId": "cfb8016f-fcd4-4fa7-b8c5-66248b88924f"
   },
   "outputs": [
    {
     "ename": "ModuleNotFoundError",
     "evalue": "No module named 'MeCab'",
     "output_type": "error",
     "traceback": [
      "\u001b[0;31m---------------------------------------------------------------------------\u001b[0m",
      "\u001b[0;31mModuleNotFoundError\u001b[0m                       Traceback (most recent call last)",
      "\u001b[0;32m<ipython-input-3-fe8c38063fb5>\u001b[0m in \u001b[0;36m<module>\u001b[0;34m()\u001b[0m\n\u001b[0;32m----> 1\u001b[0;31m \u001b[0;32mimport\u001b[0m \u001b[0mMeCab\u001b[0m\u001b[0;34m\u001b[0m\u001b[0m\n\u001b[0m\u001b[1;32m      2\u001b[0m \u001b[0;32mimport\u001b[0m \u001b[0mos\u001b[0m\u001b[0;34m,\u001b[0m \u001b[0mjson\u001b[0m\u001b[0;34m,\u001b[0m \u001b[0mrandom\u001b[0m\u001b[0;34m\u001b[0m\u001b[0m\n\u001b[1;32m      3\u001b[0m \u001b[0;34m\u001b[0m\u001b[0m\n\u001b[1;32m      4\u001b[0m \u001b[0mdict_file\u001b[0m \u001b[0;34m=\u001b[0m \u001b[0;34m\"merkov_dict.json\"\u001b[0m\u001b[0;34m\u001b[0m\u001b[0m\n\u001b[1;32m      5\u001b[0m \u001b[0mdic\u001b[0m \u001b[0;34m=\u001b[0m \u001b[0;34m{\u001b[0m\u001b[0;34m}\u001b[0m\u001b[0;34m\u001b[0m\u001b[0m\n",
      "\u001b[0;31mModuleNotFoundError\u001b[0m: No module named 'MeCab'"
     ]
    }
   ],
   "source": [
    "import MeCab\n",
    "import os, json, random\n",
    "\n",
    "dict_file = \"merkov_dict.json\"\n",
    "dic = {}\n",
    "\n",
    "#辞書への登録\n",
    "def regist_dic(wordlist):\n",
    "  global dic\n",
    "  w1 = \"\"\n",
    "  w2 = \"\"\n",
    "  \n",
    "  #要素が3未満の場合は何もしない\n",
    "  if len(wordlist) < 3: return\n",
    "  \n",
    "  for w in wordlist:\n",
    "    word = w[0]\n",
    "    if word == \"\" or word == \"\\r\\n\" or word == \"\\n\": continue\n",
    "    #辞書に単語を設定\n",
    "    if w1 and w2:\n",
    "      set_dic(dic, w1, w2, word)\n",
    "    #文末を表す語の場合、連鎖をクリアする\n",
    "    if word ==\"。\" or word == \"?\" or word == \"？\":\n",
    "      w1 = \"\"\n",
    "      w2 = \"\"\n",
    "      continue\n",
    "    #次の前後関係を登録するために、単語をスライド\n",
    "    w1, w2 = w2, word\n",
    "    \n",
    "  #辞書を保存\n",
    "  json.dump(dic, open(dict_file, \"w\", encoding=\"utf-8\"))\n",
    "  \n",
    "#応答文の作成\n",
    "def set_dic(dic, w1, w2, w3):\n",
    "  #新しい単語の場合は新しい辞書オブジェクトを作成\n",
    "  if w1 not in dic: dic[w1] = {}\n",
    "  if w2 not in dic[w1]: dic[w1][w2] = {}\n",
    "  if w3 not in dic[w1][w2]: dic[w1][w2][w3] = 0\n",
    "  #単語の出現集をインクリメントする\n",
    "  dic[w1][w2][w3] += 1\n",
    "  \n",
    "#メイン処理\n",
    "def make_resuponse(word):\n",
    "  res = []\n",
    "  \n",
    "  #名詞、形容詞、動詞は文章の意図を表していることが多いと想定し、始点の単語とする\n",
    "  w1 = word\n",
    "  res.append(w1)\n",
    "  w2 = word_choice(dic[w1])\n",
    "  res.append(w2)\n",
    "  while True:\n",
    "    #w1, w2の組み合わせから予想される単語を選択\n",
    "    if w1 in dic and w2 in dec[w1]: w3 = word_choice(dic[w1][w2])\n",
    "    else: w3 = \"\"\n",
    "    res.append(w3)\n",
    "    #文末を表す語の場合、作文を終了\n",
    "    if w3 == \"。\" or w3 ==\"?\" or w3 == \"？\" or w3 == \"\": break\n",
    "    #次の単語を選択するために単語をスライド\n",
    "    w1, w2 = w2, w3\n",
    "    \n",
    "  return \"\".join(res)\n",
    "  \n",
    "def word_choice(candidate):\n",
    "  keys = candidate.keys()\n",
    "  return random.choice(list(keys))\n",
    "\n",
    "#メイン処理\n",
    "\n",
    "#辞書がすでに存在する場合は、最初に読み込む\n",
    "if os.path.exists(dict_file):\n",
    "  dic = json.load(open(dict_file, \"r\"))\n",
    "  \n",
    "while True:\n",
    "  #標準入力から入力を受け付け、「さようなら」が入力されるまで続ける\n",
    "  text = input(\"You -> \")\n",
    "  if text == \"\" or text == \"さようなら\":\n",
    "    print(\"Bot -> さようなら\")\n",
    "    break\n",
    "    \n",
    "  #文章整形\n",
    "  if text[-1] != \"。\" and text[-1] != \"?\" and text != \"？\": text +=\"。\"\n",
    "    \n",
    "  #形態素解析\n",
    "  tagger = MeCab.Tagger()\n",
    "  tagger.parse(\"\")\n",
    "  node = tagger.parseToNode(text)\n",
    "  \n",
    "  #マルコフ連鎖の辞書に登録\n",
    "  wordlist = []\n",
    "  while node is not None:\n",
    "    hinshi = node.feature.split(\".\")[0]\n",
    "    if hinshi not in [\"BOS/EOS\"]:\n",
    "      wordlist.append([node.surface, hinshi])\n",
    "    node = node.next\n",
    "    \n",
    "  #マルコフ連鎖の辞書に登録\n",
    "  regist_dic(wordlist)\n",
    "  \n",
    "  #応答文の作成\n",
    "  for w in wordlist:\n",
    "    word = w[0]\n",
    "    hinshi = w[1]\n",
    "    #品詞が感動詞の場合は単語をそのまま返す\n",
    "    if hinshi in [\"感動詞\"]:\n",
    "      print(\"Bot -> \" + word)\n",
    "      break\n",
    "    #品詞が名詞、形容詞、動詞の場合で、かつ、辞書に単語が存在する場合は作文して返す\n",
    "    elif (hinshi in [\"名詞\", \"形容詞\", \"動詞\"]) and (word in dic):\n",
    "      print(\"Bot ->\" + make_response(word))\n",
    "      break"
   ]
  },
  {
   "cell_type": "markdown",
   "metadata": {
    "colab_type": "text",
    "id": "1zvmtbGk__4f"
   },
   "source": [
    "どうがんばってもcolaboratoryでmecab-python3がインストールエラーが出るのでここで切り上げることにする"
   ]
  },
  {
   "cell_type": "code",
   "execution_count": 2,
   "metadata": {},
   "outputs": [
    {
     "name": "stderr",
     "output_type": "stream",
     "text": [
      "UsageError: Cell magic `%%mecab` not found.\n"
     ]
    }
   ],
   "source": [
    "%%mecab"
   ]
  },
  {
   "cell_type": "code",
   "execution_count": null,
   "metadata": {},
   "outputs": [],
   "source": []
  }
 ],
 "metadata": {
  "colab": {
   "name": "markov.ipynb",
   "provenance": [],
   "version": "0.3.2"
  },
  "kernelspec": {
   "display_name": "Python 3",
   "language": "python",
   "name": "python3"
  },
  "language_info": {
   "codemirror_mode": {
    "name": "ipython",
    "version": 3
   },
   "file_extension": ".py",
   "mimetype": "text/x-python",
   "name": "python",
   "nbconvert_exporter": "python",
   "pygments_lexer": "ipython3",
   "version": "3.6.5"
  }
 },
 "nbformat": 4,
 "nbformat_minor": 1
}
