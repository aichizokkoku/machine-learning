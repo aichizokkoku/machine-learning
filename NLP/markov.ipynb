{
  "nbformat": 4,
  "nbformat_minor": 0,
  "metadata": {
    "colab": {
      "name": "markov.ipynb",
      "version": "0.3.2",
      "provenance": []
    },
    "kernelspec": {
      "name": "python3",
      "display_name": "Python 3"
    }
  },
  "cells": [
    {
      "metadata": {
        "id": "T5-WLKn0yr3p",
        "colab_type": "text"
      },
      "cell_type": "markdown",
      "source": [
        "マルコフ連鎖を利用して、自動作文に挑戦する"
      ]
    },
    {
      "metadata": {
        "id": "vMFsZV-Tyv9b",
        "colab_type": "text"
      },
      "cell_type": "markdown",
      "source": [
        "markov.py"
      ]
    },
    {
      "metadata": {
        "id": "jdB-cBLyyk2y",
        "colab_type": "code",
        "colab": {
          "base_uri": "https://localhost:8080/",
          "height": 442
        },
        "outputId": "9aa17cd4-6558-4bd3-f9c9-9ed0fe3b2bf5"
      },
      "cell_type": "code",
      "source": [
        "!apt install aptitude\n",
        "!aptitude install mecab libmecab-dev mecab-ipadic-utf8 git make curl xz-utils file -y\n"
      ],
      "execution_count": 4,
      "outputs": [
        {
          "output_type": "stream",
          "text": [
            "Reading package lists... Done\n",
            "Building dependency tree       \n",
            "Reading state information... Done\n",
            "aptitude is already the newest version (0.8.10-6ubuntu1).\n",
            "0 upgraded, 0 newly installed, 0 to remove and 5 not upgraded.\n",
            "mecab is already installed at the requested version (0.996-5)\n",
            "libmecab-dev is already installed at the requested version (0.996-5)\n",
            "mecab-ipadic-utf8 is already installed at the requested version (2.7.0-20070801+main-1)\n",
            "git is already installed at the requested version (1:2.17.1-1ubuntu0.3)\n",
            "make is already installed at the requested version (4.1-9.1ubuntu1)\n",
            "curl is already installed at the requested version (7.58.0-2ubuntu3.5)\n",
            "xz-utils is already installed at the requested version (5.2.2-1.3)\n",
            "file is already installed at the requested version (1:5.32-2ubuntu0.1)\n",
            "mecab is already installed at the requested version (0.996-5)\n",
            "libmecab-dev is already installed at the requested version (0.996-5)\n",
            "mecab-ipadic-utf8 is already installed at the requested version (2.7.0-20070801+main-1)\n",
            "git is already installed at the requested version (1:2.17.1-1ubuntu0.3)\n",
            "make is already installed at the requested version (4.1-9.1ubuntu1)\n",
            "curl is already installed at the requested version (7.58.0-2ubuntu3.5)\n",
            "xz-utils is already installed at the requested version (5.2.2-1.3)\n",
            "file is already installed at the requested version (1:5.32-2ubuntu0.1)\n",
            "No packages will be installed, upgraded, or removed.\n",
            "0 packages upgraded, 0 newly installed, 0 to remove and 5 not upgraded.\n",
            "Need to get 0 B of archives. After unpacking 0 B will be used.\n",
            "                            \n"
          ],
          "name": "stdout"
        }
      ]
    },
    {
      "metadata": {
        "id": "G6AdrLnZ-2Uk",
        "colab_type": "code",
        "colab": {
          "base_uri": "https://localhost:8080/",
          "height": 442
        },
        "outputId": "04e4bfb7-b66c-42fe-b443-ba277d91b4ba"
      },
      "cell_type": "code",
      "source": [
        "!mecab"
      ],
      "execution_count": 5,
      "outputs": [
        {
          "output_type": "stream",
          "text": [
            "おはようおとうさん\n",
            "おはよう\t感動詞,*,*,*,*,*,おはよう,オハヨウ,オハヨー\n",
            "おとうさん\t名詞,一般,*,*,*,*,おとうさん,オトウサン,オトーサン\n",
            "EOS\n",
            "なんでコンソールでできてpythonとくみあわせようとするとできないのだろうか\n",
            "なんで\t副詞,一般,*,*,*,*,なんで,ナンデ,ナンデ\n",
            "コンソール\t名詞,一般,*,*,*,*,コンソール,コンソール,コンソール\n",
            "で\t助詞,格助詞,一般,*,*,*,で,デ,デ\n",
            "でき\t動詞,自立,*,*,一段,連用形,できる,デキ,デキ\n",
            "て\t助詞,接続助詞,*,*,*,*,て,テ,テ\n",
            "python\t名詞,一般,*,*,*,*,*\n",
            "と\t助詞,格助詞,一般,*,*,*,と,ト,ト\n",
            "くみあわせよ\t動詞,自立,*,*,一段,未然ウ接続,くみあわせる,クミアワセヨ,クミアワセヨ\n",
            "う\t助動詞,*,*,*,不変化型,基本形,う,ウ,ウ\n",
            "と\t助詞,格助詞,一般,*,*,*,と,ト,ト\n",
            "する\t動詞,自立,*,*,サ変・スル,基本形,する,スル,スル\n",
            "と\t助詞,格助詞,引用,*,*,*,と,ト,ト\n",
            "でき\t動詞,自立,*,*,一段,未然形,できる,デキ,デキ\n",
            "ない\t助動詞,*,*,*,特殊・ナイ,基本形,ない,ナイ,ナイ\n",
            "の\t名詞,非自立,一般,*,*,*,の,ノ,ノ\n",
            "だろ\t助動詞,*,*,*,特殊・ダ,未然形,だ,ダロ,ダロ\n",
            "う\t助動詞,*,*,*,不変化型,基本形,う,ウ,ウ\n",
            "か\t助詞,副助詞／並立助詞／終助詞,*,*,*,*,か,カ,カ\n",
            "EOS\n",
            "^C\n"
          ],
          "name": "stdout"
        }
      ]
    },
    {
      "metadata": {
        "id": "NEGXieaC_Sxm",
        "colab_type": "code",
        "colab": {
          "base_uri": "https://localhost:8080/",
          "height": 119
        },
        "outputId": "48a7f589-64e5-46c0-e703-bea45b9a54b7"
      },
      "cell_type": "code",
      "source": [
        "!apt-get install mecab-ipadic"
      ],
      "execution_count": 11,
      "outputs": [
        {
          "output_type": "stream",
          "text": [
            "Reading package lists... Done\n",
            "Building dependency tree       \n",
            "Reading state information... Done\n",
            "mecab-ipadic is already the newest version (2.7.0-20070801+main-1).\n",
            "mecab-ipadic set to manually installed.\n",
            "0 upgraded, 0 newly installed, 0 to remove and 5 not upgraded.\n"
          ],
          "name": "stdout"
        }
      ]
    },
    {
      "metadata": {
        "id": "F3yKwvP__EVZ",
        "colab_type": "code",
        "colab": {
          "base_uri": "https://localhost:8080/",
          "height": 615
        },
        "outputId": "9db89e01-f587-41ae-adf4-a19f046a1611"
      },
      "cell_type": "code",
      "source": [
        "!pip install mecab-python3"
      ],
      "execution_count": 12,
      "outputs": [
        {
          "output_type": "stream",
          "text": [
            "Collecting mecab-python3\n",
            "  Using cached https://files.pythonhosted.org/packages/ac/48/295efe525df40cbc2173748eb869290e81a57e835bc41f6d3834fc5dad5f/mecab-python3-0.996.1.tar.gz\n",
            "Building wheels for collected packages: mecab-python3\n",
            "  Running setup.py bdist_wheel for mecab-python3 ... \u001b[?25l-\b \berror\n",
            "  Complete output from command /usr/bin/python3 -u -c \"import setuptools, tokenize;__file__='/tmp/pip-install-2dwhvnjm/mecab-python3/setup.py';f=getattr(tokenize, 'open', open)(__file__);code=f.read().replace('\\r\\n', '\\n');f.close();exec(compile(code, __file__, 'exec'))\" bdist_wheel -d /tmp/pip-wheel-5rcxc7v5 --python-tag cp36:\n",
            "  running bdist_wheel\n",
            "  running build\n",
            "  running build_py\n",
            "  running build_ext\n",
            "  building '_MeCab' extension\n",
            "  swigging MeCab.i to MeCab_wrap.cpp\n",
            "  swig -python -shadow -c++ -I/usr/include -o MeCab_wrap.cpp MeCab.i\n",
            "  unable to execute 'swig': No such file or directory\n",
            "  error: command 'swig' failed with exit status 1\n",
            "  \n",
            "  ----------------------------------------\n",
            "\u001b[31m  Failed building wheel for mecab-python3\u001b[0m\n",
            "\u001b[?25h  Running setup.py clean for mecab-python3\n",
            "Failed to build mecab-python3\n",
            "Installing collected packages: mecab-python3\n",
            "  Running setup.py install for mecab-python3 ... \u001b[?25l-\b \berror\n",
            "    Complete output from command /usr/bin/python3 -u -c \"import setuptools, tokenize;__file__='/tmp/pip-install-2dwhvnjm/mecab-python3/setup.py';f=getattr(tokenize, 'open', open)(__file__);code=f.read().replace('\\r\\n', '\\n');f.close();exec(compile(code, __file__, 'exec'))\" install --record /tmp/pip-record-o1o4s7v5/install-record.txt --single-version-externally-managed --compile:\n",
            "    running install\n",
            "    running build\n",
            "    running build_py\n",
            "    running build_ext\n",
            "    building '_MeCab' extension\n",
            "    swigging MeCab.i to MeCab_wrap.cpp\n",
            "    swig -python -shadow -c++ -I/usr/include -o MeCab_wrap.cpp MeCab.i\n",
            "    unable to execute 'swig': No such file or directory\n",
            "    error: command 'swig' failed with exit status 1\n",
            "    \n",
            "    ----------------------------------------\n",
            "\u001b[31mCommand \"/usr/bin/python3 -u -c \"import setuptools, tokenize;__file__='/tmp/pip-install-2dwhvnjm/mecab-python3/setup.py';f=getattr(tokenize, 'open', open)(__file__);code=f.read().replace('\\r\\n', '\\n');f.close();exec(compile(code, __file__, 'exec'))\" install --record /tmp/pip-record-o1o4s7v5/install-record.txt --single-version-externally-managed --compile\" failed with error code 1 in /tmp/pip-install-2dwhvnjm/mecab-python3/\u001b[0m\n",
            "\u001b[?25h"
          ],
          "name": "stdout"
        }
      ]
    },
    {
      "metadata": {
        "id": "wXj6Xb89zAc7",
        "colab_type": "code",
        "colab": {
          "base_uri": "https://localhost:8080/",
          "height": 372
        },
        "outputId": "b84fc289-a890-4251-9089-0b5d37df81ce"
      },
      "cell_type": "code",
      "source": [
        "import MeCab\n",
        "import os, json, random\n",
        "\n",
        "dict_file = \"merkov_dict.json\"\n",
        "dic = {}\n",
        "\n",
        "#辞書への登録\n",
        "def regist_dic(wordlist):\n",
        "  global dic\n",
        "  w1 = \"\"\n",
        "  w2 = \"\"\n",
        "  \n",
        "  #要素が3未満の場合は何もしない\n",
        "  if len(wordlist) < 3: return\n",
        "  \n",
        "  for w in wordlist:\n",
        "    word = w[0]\n",
        "    if word == \"\" or word == \"\\r\\n\" or word == \"\\n\": continue\n",
        "    #辞書に単語を設定\n",
        "    if w1 and w2:\n",
        "      set_dic(dic, w1, w2, word)\n",
        "    #文末を表す語の場合、連鎖をクリアする\n",
        "    if word ==\"。\" or word == \"?\" or word == \"？\":\n",
        "      w1 = \"\"\n",
        "      w2 = \"\"\n",
        "      continue\n",
        "    #次の前後関係を登録するために、単語をスライド\n",
        "    w1, w2 = w2, word\n",
        "    \n",
        "  #辞書を保存\n",
        "  json.dump(dic, open(dict_file, \"w\", encoding=\"utf-8\"))\n",
        "  \n",
        "#応答文の作成\n",
        "def set_dic(dic, w1, w2, w3):\n",
        "  #新しい単語の場合は新しい辞書オブジェクトを作成\n",
        "  if w1 not in dic: dic[w1] = {}\n",
        "  if w2 not in dic[w1]: dic[w1][w2] = {}\n",
        "  if w3 not in dic[w1][w2]: dic[w1][w2][w3] = 0\n",
        "  #単語の出現集をインクリメントする\n",
        "  dic[w1][w2][w3] += 1\n",
        "  \n",
        "#メイン処理\n",
        "def make_resuponse(word):\n",
        "  res = []\n",
        "  \n",
        "  #名詞、形容詞、動詞は文章の意図を表していることが多いと想定し、始点の単語とする\n",
        "  w1 = word\n",
        "  res.append(w1)\n",
        "  w2 = word_choice(dic[w1])\n",
        "  res.append(w2)\n",
        "  while True:\n",
        "    #w1, w2の組み合わせから予想される単語を選択\n",
        "    if w1 in dic and w2 in dec[w1]: w3 = word_choice(dic[w1][w2])\n",
        "    else: w3 = \"\"\n",
        "    res.append(w3)\n",
        "    #文末を表す語の場合、作文を終了\n",
        "    if w3 == \"。\" or w3 ==\"?\" or w3 == \"？\" or w3 == \"\": break\n",
        "    #次の単語を選択するために単語をスライド\n",
        "    w1, w2 = w2, w3\n",
        "    \n",
        "  return \"\".join(res)\n",
        "  \n",
        "def word_choice(candidate):\n",
        "  keys = candidate.keys()\n",
        "  return random.choice(list(keys))\n",
        "\n",
        "#メイン処理\n",
        "\n",
        "#辞書がすでに存在する場合は、最初に読み込む\n",
        "if os.path.exists(dict_file):\n",
        "  dic = json.load(open(dict_file, \"r\"))\n",
        "  \n",
        "while True:\n",
        "  #標準入力から入力を受け付け、「さようなら」が入力されるまで続ける\n",
        "  text = input(\"You -> \")\n",
        "  if text == \"\" or text == \"さようなら\":\n",
        "    print(\"Bot -> さようなら\")\n",
        "    break\n",
        "    \n",
        "  #文章整形\n",
        "  if text[-1] != \"。\" and text[-1] != \"?\" and text != \"？\": text +=\"。\"\n",
        "    \n",
        "  #形態素解析\n",
        "  tagger = MeCab.Tagger()\n",
        "  tagger.parse(\"\")\n",
        "  node = tagger.parseToNode(text)\n",
        "  \n",
        "  #マルコフ連鎖の辞書に登録\n",
        "  wordlist = []\n",
        "  while node is not None:\n",
        "    hinshi = node.feature.split(\".\")[0]\n",
        "    if hinshi not in [\"BOS/EOS\"]:\n",
        "      wordlist.append([node.surface, hinshi])\n",
        "    node = node.next\n",
        "    \n",
        "  #マルコフ連鎖の辞書に登録\n",
        "  regist_dic(wordlist)\n",
        "  \n",
        "  #応答文の作成\n",
        "  for w in wordlist:\n",
        "    word = w[0]\n",
        "    hinshi = w[1]\n",
        "    #品詞が感動詞の場合は単語をそのまま返す\n",
        "    if hinshi in [\"感動詞\"]:\n",
        "      print(\"Bot -> \" + word)\n",
        "      break\n",
        "    #品詞が名詞、形容詞、動詞の場合で、かつ、辞書に単語が存在する場合は作文して返す\n",
        "    elif (hinshi in [\"名詞\", \"形容詞\", \"動詞\"]) and (word in dic):\n",
        "      print(\"Bot ->\" + make_response(word))\n",
        "      break"
      ],
      "execution_count": 2,
      "outputs": [
        {
          "output_type": "error",
          "ename": "ModuleNotFoundError",
          "evalue": "ignored",
          "traceback": [
            "\u001b[0;31m---------------------------------------------------------------------------\u001b[0m",
            "\u001b[0;31mModuleNotFoundError\u001b[0m                       Traceback (most recent call last)",
            "\u001b[0;32m<ipython-input-2-fe8c38063fb5>\u001b[0m in \u001b[0;36m<module>\u001b[0;34m()\u001b[0m\n\u001b[0;32m----> 1\u001b[0;31m \u001b[0;32mimport\u001b[0m \u001b[0mMeCab\u001b[0m\u001b[0;34m\u001b[0m\u001b[0m\n\u001b[0m\u001b[1;32m      2\u001b[0m \u001b[0;32mimport\u001b[0m \u001b[0mos\u001b[0m\u001b[0;34m,\u001b[0m \u001b[0mjson\u001b[0m\u001b[0;34m,\u001b[0m \u001b[0mrandom\u001b[0m\u001b[0;34m\u001b[0m\u001b[0m\n\u001b[1;32m      3\u001b[0m \u001b[0;34m\u001b[0m\u001b[0m\n\u001b[1;32m      4\u001b[0m \u001b[0mdict_file\u001b[0m \u001b[0;34m=\u001b[0m \u001b[0;34m\"merkov_dict.json\"\u001b[0m\u001b[0;34m\u001b[0m\u001b[0m\n\u001b[1;32m      5\u001b[0m \u001b[0mdic\u001b[0m \u001b[0;34m=\u001b[0m \u001b[0;34m{\u001b[0m\u001b[0;34m}\u001b[0m\u001b[0;34m\u001b[0m\u001b[0m\n",
            "\u001b[0;31mModuleNotFoundError\u001b[0m: No module named 'MeCab'",
            "",
            "\u001b[0;31m---------------------------------------------------------------------------\u001b[0;32m\nNOTE: If your import is failing due to a missing package, you can\nmanually install dependencies using either !pip or !apt.\n\nTo view examples of installing some common dependencies, click the\n\"Open Examples\" button below.\n\u001b[0;31m---------------------------------------------------------------------------\u001b[0m\n"
          ]
        }
      ]
    },
    {
      "metadata": {
        "id": "1zvmtbGk__4f",
        "colab_type": "text"
      },
      "cell_type": "markdown",
      "source": [
        "どうがんばってもcolaboratoryでmecab-python3がインストールエラーが出るのでここで切り上げることにする"
      ]
    }
  ]
}