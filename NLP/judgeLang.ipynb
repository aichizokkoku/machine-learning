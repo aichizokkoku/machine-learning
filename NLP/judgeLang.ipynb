{
  "nbformat": 4,
  "nbformat_minor": 0,
  "metadata": {
    "colab": {
      "name": "judgeLang.ipynb",
      "version": "0.3.2",
      "provenance": []
    },
    "kernelspec": {
      "name": "python3",
      "display_name": "Python 3"
    }
  },
  "cells": [
    {
      "metadata": {
        "id": "2r8HsEUZs25k",
        "colab_type": "text"
      },
      "cell_type": "markdown",
      "source": [
        "言語判定をする"
      ]
    },
    {
      "metadata": {
        "id": "G8ivO1extrq7",
        "colab_type": "text"
      },
      "cell_type": "markdown",
      "source": [
        "lang.py"
      ]
    },
    {
      "metadata": {
        "id": "6o-W8RIaskpK",
        "colab_type": "code",
        "colab": {
          "base_uri": "https://localhost:8080/",
          "height": 53
        },
        "outputId": "55493490-7b2a-4070-f5e7-a73334089fcf"
      },
      "cell_type": "code",
      "source": [
        "import numpy as np\n",
        "from sklearn.naive_bayes import GaussianNB\n",
        "from sklearn.metrics import accuracy_score\n",
        "\n",
        "#Unicodeのコードポイント頻度測定\n",
        "def count_codePoint(str):\n",
        "  #Unicodeのコードポイントをアドレスとする配列を用意\n",
        "  counter = np.zeros(65535)\n",
        "  \n",
        "  for i in range(len(str)):\n",
        "    #各文字をUnicodeのコードポイントに変換\n",
        "    code_point = ord(str[i])\n",
        "    if code_point > 65535:\n",
        "      continue\n",
        "    #対応するアドレスの出現回数をインクリメント\n",
        "    counter[code_point] += 1\n",
        "  #各要素を文字数で割って正規化\n",
        "  counter = counter/len(str)\n",
        "  return counter\n",
        "\n",
        "#学習用データの準備\n",
        "ja_str = \"これは日本語の文章です\"\n",
        "en_str = \"This is English Sentences\"\n",
        "th_str = \"นี่เป็นประโยคภาษาไทย\"\n",
        "\n",
        "x_train = [count_codePoint(ja_str), count_codePoint(en_str), count_codePoint(th_str)]\n",
        "y_train = [\"ja\", \"en\", \"th\"]\n",
        "\n",
        "#学習する\n",
        "clf = GaussianNB()\n",
        "clf.fit(x_train, y_train)\n",
        "\n",
        "#評価用データの準備\n",
        "ja_test_str = \"こんにちは\"\n",
        "en_test_str = \"Hello\"\n",
        "th_test_str = \"สวัสดี\"\n",
        "\n",
        "x_test = [count_codePoint(en_test_str), count_codePoint(th_test_str), count_codePoint(ja_test_str)]\n",
        "y_test = [\"en\", \"th\", \"ja\"]\n",
        "\n",
        "#評価する\n",
        "y_pred = clf.predict(x_test)\n",
        "print(y_pred)\n",
        "print(\"正答率 =\", accuracy_score(y_test, y_pred))"
      ],
      "execution_count": 2,
      "outputs": [
        {
          "output_type": "stream",
          "text": [
            "['en' 'th' 'ja']\n",
            "正答率 = 1.0\n"
          ],
          "name": "stdout"
        }
      ]
    }
  ]
}