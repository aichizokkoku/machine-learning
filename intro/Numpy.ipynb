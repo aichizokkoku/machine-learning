{
  "nbformat": 4,
  "nbformat_minor": 0,
  "metadata": {
    "colab": {
      "name": "Numpy.ipynb",
      "version": "0.3.2",
      "provenance": []
    },
    "kernelspec": {
      "name": "python3",
      "display_name": "Python 3"
    }
  },
  "cells": [
    {
      "metadata": {
        "id": "PoTnazxipR3Z",
        "colab_type": "text"
      },
      "cell_type": "markdown",
      "source": [
        "Numpyの使い方を復習してみる"
      ]
    },
    {
      "metadata": {
        "id": "M5ps8R37pNpi",
        "colab_type": "code",
        "colab": {}
      },
      "cell_type": "code",
      "source": [
        "import numpy as np"
      ],
      "execution_count": 0,
      "outputs": []
    },
    {
      "metadata": {
        "id": "oQ2tXCMwrCDW",
        "colab_type": "text"
      },
      "cell_type": "markdown",
      "source": [
        "Numpy配列の初期化"
      ]
    },
    {
      "metadata": {
        "id": "0M_4pF3ypXO0",
        "colab_type": "code",
        "colab": {
          "base_uri": "https://localhost:8080/",
          "height": 53
        },
        "outputId": "6f2fc46e-4514-4ffd-96d2-130cde384968"
      },
      "cell_type": "code",
      "source": [
        "a = np.array([1, 2, 3, 4, 5])\n",
        "print(a)\n",
        "print(type(a))"
      ],
      "execution_count": 2,
      "outputs": [
        {
          "output_type": "stream",
          "text": [
            "[1 2 3 4 5]\n",
            "<class 'numpy.ndarray'>\n"
          ],
          "name": "stdout"
        }
      ]
    },
    {
      "metadata": {
        "id": "JDcryCF-piod",
        "colab_type": "code",
        "colab": {
          "base_uri": "https://localhost:8080/",
          "height": 53
        },
        "outputId": "319cfb04-da66-41b4-a27e-8b5e0c02c4af"
      },
      "cell_type": "code",
      "source": [
        "b = np.array([[1, 2, 3], [4, 5, 6]])\n",
        "print(b)"
      ],
      "execution_count": 4,
      "outputs": [
        {
          "output_type": "stream",
          "text": [
            "[[1 2 3]\n",
            " [4 5 6]]\n"
          ],
          "name": "stdout"
        }
      ]
    },
    {
      "metadata": {
        "id": "v-B-AKgkpxyF",
        "colab_type": "code",
        "colab": {
          "base_uri": "https://localhost:8080/",
          "height": 89
        },
        "outputId": "c783d39b-f260-4b42-f3cf-e02e868ce0fc"
      },
      "cell_type": "code",
      "source": [
        "print(np.zeros(10))\n",
        "print(np.zeros((3, 2)))"
      ],
      "execution_count": 7,
      "outputs": [
        {
          "output_type": "stream",
          "text": [
            "[0. 0. 0. 0. 0. 0. 0. 0. 0. 0.]\n",
            "[[0. 0.]\n",
            " [0. 0.]\n",
            " [0. 0.]]\n"
          ],
          "name": "stdout"
        }
      ]
    },
    {
      "metadata": {
        "id": "0Low_fxUqHZV",
        "colab_type": "code",
        "colab": {
          "base_uri": "https://localhost:8080/",
          "height": 71
        },
        "outputId": "8b98d52f-9250-4c59-ab20-3719d5587dab"
      },
      "cell_type": "code",
      "source": [
        "print(np.arange(5))\n",
        "print(np.arange(2, 9))\n",
        "print(np.arange(5, 8, 0.5))"
      ],
      "execution_count": 8,
      "outputs": [
        {
          "output_type": "stream",
          "text": [
            "[0 1 2 3 4]\n",
            "[2 3 4 5 6 7 8]\n",
            "[5.  5.5 6.  6.5 7.  7.5]\n"
          ],
          "name": "stdout"
        }
      ]
    },
    {
      "metadata": {
        "id": "HtiSchq6rElV",
        "colab_type": "text"
      },
      "cell_type": "markdown",
      "source": [
        "行列計算"
      ]
    },
    {
      "metadata": {
        "id": "f3C1exPRqeDg",
        "colab_type": "code",
        "colab": {
          "base_uri": "https://localhost:8080/",
          "height": 53
        },
        "outputId": "e9d916d2-78a6-40b7-a5a8-e04f122143fd"
      },
      "cell_type": "code",
      "source": [
        "a = np.arange(1, 6)\n",
        "b = a * 2\n",
        "print(a)\n",
        "print(b)"
      ],
      "execution_count": 11,
      "outputs": [
        {
          "output_type": "stream",
          "text": [
            "[1 2 3 4 5]\n",
            "[ 2  4  6  8 10]\n"
          ],
          "name": "stdout"
        }
      ]
    },
    {
      "metadata": {
        "id": "f_XgjKzxrWU9",
        "colab_type": "code",
        "colab": {
          "base_uri": "https://localhost:8080/",
          "height": 53
        },
        "outputId": "a3681f54-6382-4bb7-9dc8-5de3f3a2fc2e"
      },
      "cell_type": "code",
      "source": [
        "x = np.arange(10)\n",
        "y = x * 3 + 5\n",
        "print(x)\n",
        "print(y)"
      ],
      "execution_count": 12,
      "outputs": [
        {
          "output_type": "stream",
          "text": [
            "[0 1 2 3 4 5 6 7 8 9]\n",
            "[ 5  8 11 14 17 20 23 26 29 32]\n"
          ],
          "name": "stdout"
        }
      ]
    },
    {
      "metadata": {
        "id": "p1MY3SKtsSsV",
        "colab_type": "text"
      },
      "cell_type": "markdown",
      "source": [
        "Numpy配列の次元数を数える"
      ]
    },
    {
      "metadata": {
        "id": "XH4ew4rbrp6I",
        "colab_type": "code",
        "colab": {
          "base_uri": "https://localhost:8080/",
          "height": 53
        },
        "outputId": "3572eeb4-4df6-4959-9f8f-33ac03fb787e"
      },
      "cell_type": "code",
      "source": [
        "a = np.array([[1, 2, 3], [4, 5, 6]])\n",
        "print(a.shape)\n",
        "\n",
        "b = np.array([[1, 2], [3, 4], [5, 6]])\n",
        "print(b.shape)"
      ],
      "execution_count": 14,
      "outputs": [
        {
          "output_type": "stream",
          "text": [
            "(2, 3)\n",
            "(3, 2)\n"
          ],
          "name": "stdout"
        }
      ]
    },
    {
      "metadata": {
        "id": "3e9EGLiIuDJm",
        "colab_type": "text"
      },
      "cell_type": "markdown",
      "source": [
        "Numpy配列で次元数を変換する"
      ]
    },
    {
      "metadata": {
        "id": "NPbk4uWfsy3v",
        "colab_type": "code",
        "colab": {
          "base_uri": "https://localhost:8080/",
          "height": 71
        },
        "outputId": "6411144c-9a5e-48c5-b8fa-e54368f9e160"
      },
      "cell_type": "code",
      "source": [
        "a = np.array([[1, 2, 3], [4, 5, 6]])\n",
        "print(\"a = {}\".format(a))\n",
        "b = a.flatten()\n",
        "print(\"b = {}\".format(b))"
      ],
      "execution_count": 15,
      "outputs": [
        {
          "output_type": "stream",
          "text": [
            "a = [[1 2 3]\n",
            " [4 5 6]]\n",
            "b = [1 2 3 4 5 6]\n"
          ],
          "name": "stdout"
        }
      ]
    },
    {
      "metadata": {
        "id": "D1e3rgFFuWOI",
        "colab_type": "code",
        "colab": {
          "base_uri": "https://localhost:8080/",
          "height": 107
        },
        "outputId": "dfef475a-67a2-4d9a-c3c9-f69e2bffd130"
      },
      "cell_type": "code",
      "source": [
        "a = np.array([[1, 2, 3], [4, 5, 6]])\n",
        "print(a)\n",
        "print(a.reshape(3, 2))"
      ],
      "execution_count": 16,
      "outputs": [
        {
          "output_type": "stream",
          "text": [
            "[[1 2 3]\n",
            " [4 5 6]]\n",
            "[[1 2]\n",
            " [3 4]\n",
            " [5 6]]\n"
          ],
          "name": "stdout"
        }
      ]
    },
    {
      "metadata": {
        "id": "pbCEatrTvAtr",
        "colab_type": "text"
      },
      "cell_type": "markdown",
      "source": [
        "Numpy配列の要素にアクセスする方法"
      ]
    },
    {
      "metadata": {
        "id": "EzAKdkILu97Y",
        "colab_type": "code",
        "colab": {
          "base_uri": "https://localhost:8080/",
          "height": 89
        },
        "outputId": "2aa3d947-adc5-4e24-af42-923ddb91d2c0"
      },
      "cell_type": "code",
      "source": [
        "v = np.array([[1, 2, 3], [4, 5, 6], [7, 8, 9]])\n",
        "a = v[0]\n",
        "b = v[1:]\n",
        "c = v[: , 0]\n",
        "print(\"a = \", a)\n",
        "print(\"b = \", b)\n",
        "print(\"c = \", c)"
      ],
      "execution_count": 18,
      "outputs": [
        {
          "output_type": "stream",
          "text": [
            "a =  [1 2 3]\n",
            "b =  [[4 5 6]\n",
            " [7 8 9]]\n",
            "c =  [1 4 7]\n"
          ],
          "name": "stdout"
        }
      ]
    }
  ]
}