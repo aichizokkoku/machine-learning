{
  "nbformat": 4,
  "nbformat_minor": 0,
  "metadata": {
    "colab": {
      "name": "algorithm.ipynb",
      "version": "0.3.2",
      "provenance": []
    },
    "kernelspec": {
      "name": "python3",
      "display_name": "Python 3"
    }
  },
  "cells": [
    {
      "metadata": {
        "id": "nThIMFXWpm_X",
        "colab_type": "text"
      },
      "cell_type": "markdown",
      "source": [
        "最適なアルゴリズムやパラメーターをみつける"
      ]
    },
    {
      "metadata": {
        "id": "oAXcu8qxqJ0v",
        "colab_type": "text"
      },
      "cell_type": "markdown",
      "source": [
        "今回使うアヤメのデータを再アップロード"
      ]
    },
    {
      "metadata": {
        "id": "ck_wM2PZqO5n",
        "colab_type": "code",
        "outputId": "580ab7f7-6763-4b76-dffd-7ccca77c27d3",
        "colab": {
          "base_uri": "https://localhost:8080/",
          "height": 35
        }
      },
      "cell_type": "code",
      "source": [
        "\n",
        "import urllib.request as req\n",
        "import pandas as pd\n",
        "\n",
        "url = \"http://raw.githubusercontent.com/pandas-dev/pandas/master/pandas/tests/data/iris.csv\"\n",
        "savefile = \"iris.csv\"\n",
        "req.urlretrieve(url, savefile)\n",
        "print(\"save complete\")"
      ],
      "execution_count": 1,
      "outputs": [
        {
          "output_type": "stream",
          "text": [
            "save complete\n"
          ],
          "name": "stdout"
        }
      ]
    },
    {
      "metadata": {
        "id": "-efxNekJ6cgP",
        "colab_type": "text"
      },
      "cell_type": "markdown",
      "source": [
        "なぜか下記のselectAlgorithm.pyを起動したらnoseが入っていないエラーが出たのでここでインストール"
      ]
    },
    {
      "metadata": {
        "id": "tiYOeFuS5B3t",
        "colab_type": "code",
        "outputId": "c28ab97d-2082-44c6-d05c-412073e4a994",
        "colab": {
          "base_uri": "https://localhost:8080/",
          "height": 127
        }
      },
      "cell_type": "code",
      "source": [
        "!pip install nose"
      ],
      "execution_count": 2,
      "outputs": [
        {
          "output_type": "stream",
          "text": [
            "Collecting nose\n",
            "\u001b[?25l  Downloading https://files.pythonhosted.org/packages/15/d8/dd071918c040f50fa1cf80da16423af51ff8ce4a0f2399b7bf8de45ac3d9/nose-1.3.7-py3-none-any.whl (154kB)\n",
            "\u001b[K    100% |████████████████████████████████| 163kB 6.4MB/s \n",
            "\u001b[?25hInstalling collected packages: nose\n",
            "Successfully installed nose-1.3.7\n"
          ],
          "name": "stdout"
        }
      ]
    },
    {
      "metadata": {
        "id": "I2HhL8WwpgyJ",
        "colab_type": "text"
      },
      "cell_type": "markdown",
      "source": [
        "selectAlgorithm.py"
      ]
    },
    {
      "metadata": {
        "id": "hJyMfbS5pfGd",
        "colab_type": "code",
        "outputId": "2dd7992b-00a3-4e38-d0b5-16abeb7eadf7",
        "colab": {
          "base_uri": "https://localhost:8080/",
          "height": 545
        }
      },
      "cell_type": "code",
      "source": [
        "import pandas as pd\n",
        "from sklearn.model_selection import train_test_split\n",
        "from sklearn.metrics import accuracy_score\n",
        "import warnings\n",
        "from sklearn.utils.testing import all_estimators\n",
        "\n",
        "#アヤメのデータの読み込み\n",
        "iris_data = pd.read_csv(\"iris.csv\", encoding=\"utf-8\")\n",
        "\n",
        "#アヤメデータをラベルと入力データに分離する\n",
        "y = iris_data.loc[:,\"Name\"]\n",
        "x = iris_data.loc[:,[\"SepalLength\", \"SepalWidth\", \"PetalLength\", \"PetalWidth\"]]\n",
        "\n",
        "#学習用とテスト用に分離する\n",
        "x_train, x_test, y_train, y_test = train_test_split(x, y, test_size = 0.2, train_size = 0.8, shuffle = True)\n",
        "\n",
        "#classifireのアルゴリズムをすべて取得する\n",
        "warnings.filterwarnings('ignore')\n",
        "allAlgorithms = all_estimators(type_filter=\"classifier\")\n",
        "\n",
        "for (name, algorithm) in allAlgorithms:\n",
        "  #各アルゴリズムのオブジェクトを作成\n",
        "  clf = algorithm()\n",
        "  \n",
        "  #学習して、評価する\n",
        "  clf.fit(x_train, y_train)\n",
        "  y_pred = clf.predict(x_test)\n",
        "  print(name, \"の正答率 = \", accuracy_score(y_test, y_pred))"
      ],
      "execution_count": 0,
      "outputs": [
        {
          "output_type": "stream",
          "text": [
            "AdaBoostClassifier の正答率 =  0.9333333333333333\n",
            "BaggingClassifier の正答率 =  0.9333333333333333\n",
            "BernoulliNB の正答率 =  0.26666666666666666\n",
            "CalibratedClassifierCV の正答率 =  0.9666666666666667\n",
            "DecisionTreeClassifier の正答率 =  0.9333333333333333\n",
            "ExtraTreeClassifier の正答率 =  0.9333333333333333\n",
            "ExtraTreesClassifier の正答率 =  0.9666666666666667\n",
            "GaussianNB の正答率 =  0.9666666666666667\n",
            "GaussianProcessClassifier の正答率 =  0.9666666666666667\n",
            "GradientBoostingClassifier の正答率 =  0.9333333333333333\n",
            "KNeighborsClassifier の正答率 =  0.9666666666666667\n",
            "LabelPropagation の正答率 =  0.9666666666666667\n",
            "LabelSpreading の正答率 =  0.9666666666666667\n",
            "LinearDiscriminantAnalysis の正答率 =  1.0\n",
            "LinearSVC の正答率 =  0.9666666666666667\n",
            "LogisticRegression の正答率 =  0.9666666666666667\n",
            "LogisticRegressionCV の正答率 =  0.9666666666666667\n",
            "MLPClassifier の正答率 =  1.0\n",
            "MultinomialNB の正答率 =  0.8\n",
            "NearestCentroid の正答率 =  0.9666666666666667\n",
            "NuSVC の正答率 =  0.9666666666666667\n",
            "PassiveAggressiveClassifier の正答率 =  0.6\n",
            "Perceptron の正答率 =  0.7333333333333333\n",
            "QuadraticDiscriminantAnalysis の正答率 =  1.0\n",
            "RadiusNeighborsClassifier の正答率 =  0.9666666666666667\n",
            "RandomForestClassifier の正答率 =  0.9666666666666667\n",
            "RidgeClassifier の正答率 =  0.9\n",
            "RidgeClassifierCV の正答率 =  0.9\n",
            "SGDClassifier の正答率 =  0.5666666666666667\n",
            "SVC の正答率 =  0.9666666666666667\n"
          ],
          "name": "stdout"
        }
      ]
    },
    {
      "metadata": {
        "id": "-Y1Szs1Q7iR5",
        "colab_type": "text"
      },
      "cell_type": "markdown",
      "source": [
        "クロスバリデーション（交差検定）"
      ]
    },
    {
      "metadata": {
        "id": "pbl7JK4f7sJ1",
        "colab_type": "text"
      },
      "cell_type": "markdown",
      "source": [
        "cross_validation.py"
      ]
    },
    {
      "metadata": {
        "id": "bBC40BtF7l7M",
        "colab_type": "code",
        "outputId": "721865a0-f894-49bd-80a0-9df6d53daa68",
        "colab": {
          "base_uri": "https://localhost:8080/",
          "height": 1073
        }
      },
      "cell_type": "code",
      "source": [
        "import pandas as pd\n",
        "from sklearn.utils.testing import all_estimators\n",
        "from sklearn.model_selection import KFold\n",
        "import warnings\n",
        "from sklearn.model_selection import cross_val_score\n",
        "\n",
        "#アヤメのデータの読み込み\n",
        "iris_data = pd.read_csv(\"iris.csv\", encoding=\"utf-8\")\n",
        "\n",
        "#アヤメデータをラベルと入力データに分離する\n",
        "y = iris_data.loc[:,\"Name\"]\n",
        "x = iris_data.loc[:,[\"SepalLength\", \"SepalWidth\", \"PetalLength\", \"PetalWidth\"]]\n",
        "\n",
        "#学習用とテスト用に分離する\n",
        "x_train, x_test, y_train, y_test = train_test_split(x, y, test_size = 0.2, train_size = 0.8, shuffle = True)\n",
        "\n",
        "#classifireのアルゴリズムをすべて取得する\n",
        "warnings.filterwarnings('ignore')\n",
        "allAlgorithms = all_estimators(type_filter=\"classifier\")\n",
        "\n",
        "#k分割クロスバリデーション用オブジェクト\n",
        "kfold_cv = KFold(n_splits=5, shuffle=True)\n",
        "\n",
        "for(name, algorithm) in allAlgorithms:\n",
        "  #各アルゴリズムのオブジェクトを作成\n",
        "  clf = algorithm()\n",
        "  \n",
        "  #scoreメソッドを持つクラスを対象とする\n",
        "  if hasattr(clf, \"score\"):\n",
        "    \n",
        "    #クロスバリデーションを行う\n",
        "    scores = cross_val_score(clf, x, y, cv=kfold_cv)\n",
        "    print(name, \"正答率 = \")\n",
        "    print(scores)"
      ],
      "execution_count": 0,
      "outputs": [
        {
          "output_type": "stream",
          "text": [
            "AdaBoostClassifier 正答率 = \n",
            "[0.93333333 0.96666667 0.93333333 0.96666667 0.86666667]\n",
            "BaggingClassifier 正答率 = \n",
            "[0.93333333 0.93333333 0.93333333 0.93333333 0.9       ]\n",
            "BernoulliNB 正答率 = \n",
            "[0.2        0.3        0.26666667 0.3        0.2       ]\n",
            "CalibratedClassifierCV 正答率 = \n",
            "[0.93333333 0.9        0.96666667 0.93333333 0.9       ]\n",
            "DecisionTreeClassifier 正答率 = \n",
            "[0.93333333 0.96666667 0.93333333 0.96666667 0.96666667]\n",
            "ExtraTreeClassifier 正答率 = \n",
            "[0.96666667 1.         0.96666667 0.93333333 0.96666667]\n",
            "ExtraTreesClassifier 正答率 = \n",
            "[0.93333333 0.96666667 0.96666667 0.93333333 0.9       ]\n",
            "GaussianNB 正答率 = \n",
            "[0.96666667 0.93333333 0.9        1.         0.96666667]\n",
            "GaussianProcessClassifier 正答率 = \n",
            "[0.96666667 0.96666667 0.9        1.         0.9       ]\n",
            "GradientBoostingClassifier 正答率 = \n",
            "[0.96666667 0.93333333 1.         0.93333333 0.93333333]\n",
            "KNeighborsClassifier 正答率 = \n",
            "[0.93333333 0.96666667 1.         1.         0.96666667]\n",
            "LabelPropagation 正答率 = \n",
            "[0.96666667 0.86666667 0.96666667 0.96666667 1.        ]\n",
            "LabelSpreading 正答率 = \n",
            "[1.         1.         0.9        0.96666667 0.93333333]\n",
            "LinearDiscriminantAnalysis 正答率 = \n",
            "[1.         1.         1.         0.93333333 0.96666667]\n",
            "LinearSVC 正答率 = \n",
            "[0.96666667 0.96666667 0.93333333 1.         0.96666667]\n",
            "LogisticRegression 正答率 = \n",
            "[0.96666667 0.93333333 1.         0.9        0.93333333]\n",
            "LogisticRegressionCV 正答率 = \n",
            "[0.96666667 0.86666667 0.96666667 0.9        0.86666667]\n",
            "MLPClassifier 正答率 = \n",
            "[0.9        0.96666667 0.96666667 1.         1.        ]\n",
            "MultinomialNB 正答率 = \n",
            "[0.56666667 0.86666667 0.8        0.8        0.6       ]\n",
            "NearestCentroid 正答率 = \n",
            "[0.93333333 0.9        0.93333333 0.9        0.93333333]\n",
            "NuSVC 正答率 = \n",
            "[0.93333333 1.         1.         0.96666667 0.93333333]\n",
            "PassiveAggressiveClassifier 正答率 = \n",
            "[0.63333333 0.7        0.9        0.76666667 0.76666667]\n",
            "Perceptron 正答率 = \n",
            "[0.66666667 0.63333333 0.53333333 0.63333333 0.56666667]\n",
            "QuadraticDiscriminantAnalysis 正答率 = \n",
            "[0.9        0.96666667 1.         0.96666667 1.        ]\n",
            "RadiusNeighborsClassifier 正答率 = \n",
            "[0.96666667 0.96666667 0.96666667 1.         0.93333333]\n",
            "RandomForestClassifier 正答率 = \n",
            "[1.         0.96666667 0.8        0.93333333 1.        ]\n",
            "RidgeClassifier 正答率 = \n",
            "[0.83333333 0.73333333 0.73333333 0.86666667 0.8       ]\n",
            "RidgeClassifierCV 正答率 = \n",
            "[0.76666667 0.9        0.8        0.86666667 0.9       ]\n",
            "SGDClassifier 正答率 = \n",
            "[0.56666667 0.3        0.46666667 0.66666667 0.7       ]\n",
            "SVC 正答率 = \n",
            "[1.         0.93333333 1.         0.96666667 0.96666667]\n"
          ],
          "name": "stdout"
        }
      ]
    },
    {
      "metadata": {
        "id": "GnlGEt95hbiQ",
        "colab_type": "text"
      },
      "cell_type": "markdown",
      "source": [
        "gridSearch.py"
      ]
    },
    {
      "metadata": {
        "id": "qkoipz-y8-4N",
        "colab_type": "code",
        "colab": {
          "base_uri": "https://localhost:8080/",
          "height": 107
        },
        "outputId": "4adf770d-7048-4a1c-ef46-5b47b95b39a8"
      },
      "cell_type": "code",
      "source": [
        "import pandas as pd\n",
        "from sklearn.model_selection import train_test_split\n",
        "from sklearn.svm import SVC\n",
        "from sklearn.metrics import accuracy_score\n",
        "from sklearn.model_selection import KFold\n",
        "from sklearn.model_selection import GridSearchCV\n",
        "\n",
        "#アヤメのデータの読み込み\n",
        "iris_data = pd.read_csv(\"iris.csv\", encoding=\"utf-8\")\n",
        "\n",
        "#アヤメのデータをラベルと入力データに分離する\n",
        "y = iris_data.loc[:,\"Name\"]\n",
        "x = iris_data.loc[:,[\"SepalLength\", \"SepalWidth\", \"PetalLength\", \"PetalWidth\"]]\n",
        "\n",
        "#学習用とテスト用に分離する\n",
        "x_train, x_test, y_train, y_test = train_test_split(x, y, test_size = 0.2, train_size = 0.8, shuffle = True)\n",
        "\n",
        "#グリッドサーチで利用するパラメーターを指定\n",
        "parameters = [\n",
        "    {\"C\": [1, 10, 100, 1000], \"kernel\":[\"linear\"]},\n",
        "    {\"C\": [1, 10, 100, 1000], \"kernel\":[\"rbf\"], \"gamma\":[0.001, 0.0001]},\n",
        "    {\"C\": [1, 10, 100, 1000], \"kernel\":[\"sigmoid\"], \"gamma\":[0.001, 0.0001]}\n",
        "]\n",
        "\n",
        "#グリッドサーチを行う\n",
        "kfold_cv = KFold(n_splits=5, shuffle=True)\n",
        "clf = GridSearchCV( SVC(), parameters, cv=kfold_cv)\n",
        "clf.fit(x_train, y_train)\n",
        "print(\"最適なパラメーター = \", clf.best_estimator_)\n",
        "\n",
        "#最適なパラメーターで評価\n",
        "y_pred = clf.predict(x_test)\n",
        "print(\"評価時の正答率 = \", accuracy_score(y_test, y_pred))"
      ],
      "execution_count": 10,
      "outputs": [
        {
          "output_type": "stream",
          "text": [
            "最適なパラメーター =  SVC(C=1, cache_size=200, class_weight=None, coef0=0.0,\n",
            "  decision_function_shape='ovr', degree=3, gamma='auto', kernel='linear',\n",
            "  max_iter=-1, probability=False, random_state=None, shrinking=True,\n",
            "  tol=0.001, verbose=False)\n",
            "評価時の正答率 =  1.0\n"
          ],
          "name": "stdout"
        }
      ]
    }
  ]
}