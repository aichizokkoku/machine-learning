{
  "nbformat": 4,
  "nbformat_minor": 0,
  "metadata": {
    "colab": {
      "name": "opticalRecognition.ipynb",
      "version": "0.3.2",
      "provenance": []
    },
    "kernelspec": {
      "name": "python3",
      "display_name": "Python 3"
    }
  },
  "cells": [
    {
      "metadata": {
        "id": "RUwWOV2NJS44",
        "colab_type": "text"
      },
      "cell_type": "markdown",
      "source": [
        "文字認識 - 手書き数字を判定する"
      ]
    },
    {
      "metadata": {
        "id": "swMRmFK7Jnni",
        "colab_type": "text"
      },
      "cell_type": "markdown",
      "source": [
        "手書き数字の光学認識データセットを持ってくる"
      ]
    },
    {
      "metadata": {
        "id": "hjXBIeetI2fW",
        "colab_type": "code",
        "colab": {}
      },
      "cell_type": "code",
      "source": [
        "from sklearn import datasets\n",
        "digits = datasets.load_digits()"
      ],
      "execution_count": 0,
      "outputs": []
    },
    {
      "metadata": {
        "id": "d2UwgdbkJiZa",
        "colab_type": "code",
        "colab": {
          "base_uri": "https://localhost:8080/",
          "height": 351
        },
        "outputId": "0ce5a948-8fe4-4b5d-afd2-e94f7b5c91b9"
      },
      "cell_type": "code",
      "source": [
        "import matplotlib.pyplot as plt\n",
        "\n",
        "for i in range(15):\n",
        "  plt.subplot(3, 5, i+1)\n",
        "  plt.axis(\"off\")\n",
        "  plt.title(str(digits.target[i]))\n",
        "  plt.imshow(digits.images[i], cmap=\"gray\")\n",
        "  \n",
        "plt.show()"
      ],
      "execution_count": 3,
      "outputs": [
        {
          "output_type": "display_data",
          "data": {
            "image/png": "[encoded data removed]",
            "text/plain": [
              "<matplotlib.figure.Figure at 0x7f1eab0b11d0>"
            ]
          },
          "metadata": {
            "tags": []
          }
        }
      ]
    },
    {
      "metadata": {
        "id": "5N8wa8lDLqb8",
        "colab_type": "code",
        "colab": {
          "base_uri": "https://localhost:8080/",
          "height": 491
        },
        "outputId": "bfefade5-a3e7-45dc-a637-1dc206cd4322"
      },
      "cell_type": "code",
      "source": [
        "d0 = digits.images[0]\n",
        "plt.imshow(d0, cmap=\"gray\")\n",
        "plt.axis(\"off\")\n",
        "plt.show()\n",
        "print(d0)"
      ],
      "execution_count": 6,
      "outputs": [
        {
          "output_type": "display_data",
          "data": {
            "image/png": "[encoded data removed]",
            "text/plain": [
              "<matplotlib.figure.Figure at 0x7f1eaaf4ff98>"
            ]
          },
          "metadata": {
            "tags": []
          }
        },
        {
          "output_type": "stream",
          "text": [
            "[[ 0.  0.  5. 13.  9.  1.  0.  0.]\n",
            " [ 0.  0. 13. 15. 10. 15.  5.  0.]\n",
            " [ 0.  3. 15.  2.  0. 11.  8.  0.]\n",
            " [ 0.  4. 12.  0.  0.  8.  8.  0.]\n",
            " [ 0.  5.  8.  0.  0.  9.  8.  0.]\n",
            " [ 0.  4. 11.  0.  1. 12.  7.  0.]\n",
            " [ 0.  2. 14.  5. 10. 12.  0.  0.]\n",
            " [ 0.  0.  6. 13. 10.  0.  0.  0.]]\n"
          ],
          "name": "stdout"
        }
      ]
    },
    {
      "metadata": {
        "id": "jICZbA-JNCMt",
        "colab_type": "text"
      },
      "cell_type": "markdown",
      "source": [
        "それではこの画像群を使って機械学習をする"
      ]
    },
    {
      "metadata": {
        "id": "cH3xTpC4RQoT",
        "colab_type": "text"
      },
      "cell_type": "markdown",
      "source": [
        "ml_digits.py"
      ]
    },
    {
      "metadata": {
        "id": "dHzO2Yx1Meup",
        "colab_type": "code",
        "colab": {
          "base_uri": "https://localhost:8080/",
          "height": 35
        },
        "outputId": "523bef33-c782-4f85-91a4-823c648e639a"
      },
      "cell_type": "code",
      "source": [
        "from sklearn.model_selection import train_test_split\n",
        "from sklearn import datasets, svm, metrics\n",
        "from sklearn.metrics import accuracy_score\n",
        "\n",
        "#データを読み込む\n",
        "digits = datasets.load_digits()\n",
        "x = digits.images\n",
        "y = digits.target\n",
        "#二次元配列を一次元配列に変換\n",
        "x = x.reshape((-1, 64))\n",
        "\n",
        "#データを学習用とテスト用に分割する\n",
        "x_train, x_test, y_train, y_test = train_test_split(x, y, test_size=0.2)\n",
        "\n",
        "#データを学習\n",
        "clf = svm.LinearSVC()\n",
        "clf.fit(x_train, y_train)\n",
        "\n",
        "#予測して精度を確認する\n",
        "y_pred = clf.predict(x_test)\n",
        "print(\"精度:\", accuracy_score(y_test, y_pred))"
      ],
      "execution_count": 12,
      "outputs": [
        {
          "output_type": "stream",
          "text": [
            "精度: 0.9611111111111111\n"
          ],
          "name": "stdout"
        }
      ]
    },
    {
      "metadata": {
        "id": "f4Ufvnw3PleE",
        "colab_type": "text"
      },
      "cell_type": "markdown",
      "source": [
        "学習済みデータの保存"
      ]
    },
    {
      "metadata": {
        "id": "RTVLP7wDOV7T",
        "colab_type": "code",
        "colab": {
          "base_uri": "https://localhost:8080/",
          "height": 35
        },
        "outputId": "e021c0d9-80d8-43cc-d6f3-fe0dad57b4a0"
      },
      "cell_type": "code",
      "source": [
        "from sklearn.externals import joblib\n",
        "joblib.dump(clf, \"digits.pkl\")"
      ],
      "execution_count": 13,
      "outputs": [
        {
          "output_type": "execute_result",
          "data": {
            "text/plain": [
              "['digits.pkl']"
            ]
          },
          "metadata": {
            "tags": []
          },
          "execution_count": 13
        }
      ]
    },
    {
      "metadata": {
        "id": "33xviswbRT9G",
        "colab_type": "text"
      },
      "cell_type": "markdown",
      "source": [
        "predict_myimage.py"
      ]
    },
    {
      "metadata": {
        "id": "MJwYMf50P0eN",
        "colab_type": "code",
        "colab": {
          "base_uri": "https://localhost:8080/",
          "height": 271
        },
        "outputId": "88b2393a-ba5d-4c2a-ff90-cc5f1f7cf003"
      },
      "cell_type": "code",
      "source": [
        "import cv2\n",
        "from sklearn.externals import joblib\n",
        "import matplotlib.pyplot as plt\n",
        "\n",
        "def predict_digit(filename):\n",
        "  #学習済みデータを読み込む\n",
        "  clf = joblib.load(\"digits.pkl\")\n",
        "  #画像ファイルを読み込む\n",
        "  my_img = cv2.imread(filename)\n",
        "  #画像データを学習済みデータに合わせる\n",
        "  my_img = cv2.cvtColor(my_img, cv2.COLOR_BGR2GRAY)\n",
        "  \n",
        "  plt.subplot(1, 2, 1)\n",
        "  plt.imshow(my_img, cmap=\"gray\")\n",
        "  \n",
        "  my_img = cv2.resize(my_img, (8, 8))\n",
        "  my_img = 15 - my_img // 16\n",
        "  \n",
        "  plt.subplot(1, 2, 2)\n",
        "  plt.imshow(my_img, cmap=\"gray\")\n",
        "  \n",
        "  #二次元配列を一次元配列に変換\n",
        "  my_img = my_img.reshape((-1, 64))\n",
        "  #データを予想する\n",
        "  res = clf.predict(my_img)\n",
        "  return res[0]\n",
        "\n",
        "n = predict_digit(\"img13.png\")\n",
        "print(\"img13.png = \" + str(n))"
      ],
      "execution_count": 22,
      "outputs": [
        {
          "output_type": "stream",
          "text": [
            "img13.png = 3\n"
          ],
          "name": "stdout"
        },
        {
          "output_type": "display_data",
          "data": {
            "image/png": "[encoded data removed]",
            "text/plain": [
              "<matplotlib.figure.Figure at 0x7f1eaaf14a90>"
            ]
          },
          "metadata": {
            "tags": []
          }
        }
      ]
    }
  ]
}