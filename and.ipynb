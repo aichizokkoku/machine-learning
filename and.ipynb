{
  "nbformat": 4,
  "nbformat_minor": 0,
  "metadata": {
    "colab": {
      "name": "and.ipynb",
      "version": "0.3.2",
      "provenance": []
    },
    "kernelspec": {
      "display_name": "Python 3",
      "language": "python",
      "name": "python3"
    }
  },
  "cells": [
    {
      "metadata": {
        "id": "IxnhO1Xb80PV",
        "colab_type": "text"
      },
      "cell_type": "markdown",
      "source": [
        "and.py"
      ]
    },
    {
      "metadata": {
        "id": "fbNI_Dw26rDX",
        "colab_type": "code",
        "colab": {
          "base_uri": "https://localhost:8080/",
          "height": 53
        },
        "outputId": "d17398ee-286a-446e-9e9b-4c3fa5ced10b"
      },
      "cell_type": "code",
      "source": [
        "#ライブラリのインポート\n",
        "from sklearn.svm import LinearSVC\n",
        "from sklearn.metrics import accuracy_score\n",
        "\n",
        "#学習用データと結果の実行\n",
        "learn_data = [[0,0], [1,0], [0,1], [1,1]]\n",
        "learn_label = [0, 0, 0, 1]\n",
        "\n",
        "#アルゴリズムの指定\n",
        "clf = LinearSVC()\n",
        "\n",
        "#学習用データと結果の学習\n",
        "clf.fit(learn_data, learn_label)\n",
        "\n",
        "#テストデータによる予測\n",
        "test_data = [[0,0], [1,0], [0,1], [1,1]]\n",
        "test_label = clf.predict(test_data)\n",
        "\n",
        "#予想結果の評価\n",
        "print(test_data, \"の予測結果:\", test_label)\n",
        "print(\"正答率 = \", accuracy_score([0, 0, 0, 1], test_label))"
      ],
      "execution_count": 8,
      "outputs": [
        {
          "output_type": "stream",
          "text": [
            "[[0, 0], [1, 0], [0, 1], [1, 1]] の予測結果: [0 0 0 1]\n",
            "正答率 =  1.0\n"
          ],
          "name": "stdout"
        }
      ]
    }
  ]
}