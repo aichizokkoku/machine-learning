{
  "nbformat": 4,
  "nbformat_minor": 0,
  "metadata": {
    "colab": {
      "name": "TensorFlow.ipynb",
      "version": "0.3.2",
      "provenance": []
    },
    "kernelspec": {
      "name": "python3",
      "display_name": "Python 3"
    }
  },
  "cells": [
    {
      "metadata": {
        "id": "xMiPf0oFZ977",
        "colab_type": "code",
        "colab": {
          "base_uri": "https://localhost:8080/",
          "height": 811
        },
        "outputId": "c06ba1cf-ca66-4ab5-a68d-f0cca50ead17"
      },
      "cell_type": "code",
      "source": [
        "!pip install --upgrade tensorflow==1.5.0\n",
        "!pip install --upgrade keras==2.1.4"
      ],
      "execution_count": 1,
      "outputs": [
        {
          "output_type": "stream",
          "text": [
            "Collecting tensorflow==1.5.0\n",
            "\u001b[?25l  Downloading https://files.pythonhosted.org/packages/04/79/a37d0b373757b4d283c674a64127bd8864d69f881c639b1ee5953e2d9301/tensorflow-1.5.0-cp36-cp36m-manylinux1_x86_64.whl (44.4MB)\n",
            "\u001b[K    100% |████████████████████████████████| 44.4MB 737kB/s \n",
            "\u001b[?25hRequirement already satisfied, skipping upgrade: six>=1.10.0 in /usr/local/lib/python3.6/dist-packages (from tensorflow==1.5.0) (1.11.0)\n",
            "Requirement already satisfied, skipping upgrade: numpy>=1.12.1 in /usr/local/lib/python3.6/dist-packages (from tensorflow==1.5.0) (1.14.6)\n",
            "Requirement already satisfied, skipping upgrade: wheel>=0.26 in /usr/local/lib/python3.6/dist-packages (from tensorflow==1.5.0) (0.32.2)\n",
            "Requirement already satisfied, skipping upgrade: protobuf>=3.4.0 in /usr/local/lib/python3.6/dist-packages (from tensorflow==1.5.0) (3.6.1)\n",
            "Requirement already satisfied, skipping upgrade: absl-py>=0.1.6 in /usr/local/lib/python3.6/dist-packages (from tensorflow==1.5.0) (0.5.0)\n",
            "Collecting tensorflow-tensorboard<1.6.0,>=1.5.0 (from tensorflow==1.5.0)\n",
            "\u001b[?25l  Downloading https://files.pythonhosted.org/packages/cc/fa/91c06952517b4f1bc075545b062a4112e30cebe558a6b962816cb33efa27/tensorflow_tensorboard-1.5.1-py3-none-any.whl (3.0MB)\n",
            "\u001b[K    100% |████████████████████████████████| 3.0MB 10.2MB/s \n",
            "\u001b[?25hRequirement already satisfied, skipping upgrade: setuptools in /usr/local/lib/python3.6/dist-packages (from protobuf>=3.4.0->tensorflow==1.5.0) (40.4.3)\n",
            "Requirement already satisfied, skipping upgrade: werkzeug>=0.11.10 in /usr/local/lib/python3.6/dist-packages (from tensorflow-tensorboard<1.6.0,>=1.5.0->tensorflow==1.5.0) (0.14.1)\n",
            "Requirement already satisfied, skipping upgrade: markdown>=2.6.8 in /usr/local/lib/python3.6/dist-packages (from tensorflow-tensorboard<1.6.0,>=1.5.0->tensorflow==1.5.0) (3.0.1)\n",
            "Collecting bleach==1.5.0 (from tensorflow-tensorboard<1.6.0,>=1.5.0->tensorflow==1.5.0)\n",
            "  Downloading https://files.pythonhosted.org/packages/33/70/86c5fec937ea4964184d4d6c4f0b9551564f821e1c3575907639036d9b90/bleach-1.5.0-py2.py3-none-any.whl\n",
            "Collecting html5lib==0.9999999 (from tensorflow-tensorboard<1.6.0,>=1.5.0->tensorflow==1.5.0)\n",
            "\u001b[?25l  Downloading https://files.pythonhosted.org/packages/ae/ae/bcb60402c60932b32dfaf19bb53870b29eda2cd17551ba5639219fb5ebf9/html5lib-0.9999999.tar.gz (889kB)\n",
            "\u001b[K    100% |████████████████████████████████| 890kB 11.5MB/s \n",
            "\u001b[?25hBuilding wheels for collected packages: html5lib\n",
            "  Running setup.py bdist_wheel for html5lib ... \u001b[?25l-\b \b\\\b \bdone\n",
            "\u001b[?25h  Stored in directory: /root/.cache/pip/wheels/50/ae/f9/d2b189788efcf61d1ee0e36045476735c838898eef1cad6e29\n",
            "Successfully built html5lib\n",
            "Installing collected packages: html5lib, bleach, tensorflow-tensorboard, tensorflow\n",
            "  Found existing installation: bleach 3.0.2\n",
            "    Uninstalling bleach-3.0.2:\n",
            "      Successfully uninstalled bleach-3.0.2\n",
            "  Found existing installation: tensorflow 1.12.0rc1\n",
            "    Uninstalling tensorflow-1.12.0rc1:\n",
            "      Successfully uninstalled tensorflow-1.12.0rc1\n",
            "Successfully installed bleach-1.5.0 html5lib-0.9999999 tensorflow-1.5.0 tensorflow-tensorboard-1.5.1\n",
            "Collecting keras==2.1.4\n",
            "\u001b[?25l  Downloading https://files.pythonhosted.org/packages/86/45/a273fe3f8fe931a11da34fba1cb74013cfc70dcf93e5d8d329c951dc44c5/Keras-2.1.4-py2.py3-none-any.whl (322kB)\n",
            "\u001b[K    100% |████████████████████████████████| 327kB 7.0MB/s \n",
            "\u001b[?25hRequirement already satisfied, skipping upgrade: pyyaml in /usr/local/lib/python3.6/dist-packages (from keras==2.1.4) (3.13)\n",
            "Requirement already satisfied, skipping upgrade: scipy>=0.14 in /usr/local/lib/python3.6/dist-packages (from keras==2.1.4) (0.19.1)\n",
            "Requirement already satisfied, skipping upgrade: six>=1.9.0 in /usr/local/lib/python3.6/dist-packages (from keras==2.1.4) (1.11.0)\n",
            "Requirement already satisfied, skipping upgrade: numpy>=1.9.1 in /usr/local/lib/python3.6/dist-packages (from keras==2.1.4) (1.14.6)\n",
            "Installing collected packages: keras\n",
            "  Found existing installation: Keras 2.1.6\n",
            "    Uninstalling Keras-2.1.6:\n",
            "      Successfully uninstalled Keras-2.1.6\n",
            "Successfully installed keras-2.1.4\n"
          ],
          "name": "stdout"
        }
      ]
    },
    {
      "metadata": {
        "id": "zBcMmXo0a-ef",
        "colab_type": "text"
      },
      "cell_type": "markdown",
      "source": [
        "test-tf.py"
      ]
    },
    {
      "metadata": {
        "id": "MZOQQkDOauPS",
        "colab_type": "code",
        "colab": {
          "base_uri": "https://localhost:8080/",
          "height": 35
        },
        "outputId": "e55696e4-cb39-40f8-b9d6-8da32901dc13"
      },
      "cell_type": "code",
      "source": [
        "import tensorflow as tf\n",
        "sess = tf.Session()\n",
        "hello = tf.constant(\"Hello\")\n",
        "print(sess.run(hello))"
      ],
      "execution_count": 2,
      "outputs": [
        {
          "output_type": "stream",
          "text": [
            "b'Hello'\n"
          ],
          "name": "stdout"
        }
      ]
    },
    {
      "metadata": {
        "id": "acxhLkvQbchv",
        "colab_type": "text"
      },
      "cell_type": "markdown",
      "source": [
        "test_add.py"
      ]
    },
    {
      "metadata": {
        "id": "lp0XfVE6bAmr",
        "colab_type": "code",
        "colab": {
          "base_uri": "https://localhost:8080/",
          "height": 35
        },
        "outputId": "320b69be-ee4c-4a37-dc2f-351352f20c4d"
      },
      "cell_type": "code",
      "source": [
        "import tensorflow as tf\n",
        "\n",
        "#定数を定義\n",
        "a = tf.constant(100)\n",
        "b = tf.constant(30)\n",
        "\n",
        "#演算を定義\n",
        "add_op = a + b\n",
        "\n",
        "#セッションを開始する\n",
        "sess = tf.Session()\n",
        "res = sess.run(add_op)\n",
        "print(res)"
      ],
      "execution_count": 3,
      "outputs": [
        {
          "output_type": "stream",
          "text": [
            "130\n"
          ],
          "name": "stdout"
        }
      ]
    },
    {
      "metadata": {
        "id": "ERRfGlS_czM3",
        "colab_type": "text"
      },
      "cell_type": "markdown",
      "source": [
        "test_mul.py"
      ]
    },
    {
      "metadata": {
        "id": "bBn4lLGKdKnc",
        "colab_type": "code",
        "colab": {
          "base_uri": "https://localhost:8080/",
          "height": 35
        },
        "outputId": "914828fe-e856-42fc-c082-e615dd22f5f5"
      },
      "cell_type": "code",
      "source": [
        "import tensorflow as tf\n",
        "\n",
        "a = tf.constant(10)\n",
        "b = tf.constant(20)\n",
        "c = tf.constant(30)\n",
        "\n",
        "mul_op = (a + b) * c\n",
        "\n",
        "sess = tf.Session()\n",
        "res = sess.run(mul_op)\n",
        "print(res)"
      ],
      "execution_count": 7,
      "outputs": [
        {
          "output_type": "stream",
          "text": [
            "900\n"
          ],
          "name": "stdout"
        }
      ]
    },
    {
      "metadata": {
        "id": "bxsuuw4IdRBu",
        "colab_type": "text"
      },
      "cell_type": "markdown",
      "source": [
        "test_mul_tb.py"
      ]
    },
    {
      "metadata": {
        "id": "BcwtspTUb4v7",
        "colab_type": "code",
        "colab": {
          "base_uri": "https://localhost:8080/",
          "height": 53
        },
        "outputId": "a9d7482c-df1a-4b27-f66b-1ca28bec75bd"
      },
      "cell_type": "code",
      "source": [
        "import tensorflow as tf\n",
        "\n",
        "a = tf.constant(10, name=\"10\")\n",
        "b = tf.constant(20, name=\"20\")\n",
        "c = tf.constant(30, name=\"30\")\n",
        "\n",
        "add_op = tf.add(a, b, name=\"add\")\n",
        "mul_op = tf.multiply(add_op, c, name=\"mul\")\n",
        "\n",
        "sess = tf.Session()\n",
        "res = sess.run(mul_op)\n",
        "print(res)\n",
        "\n",
        "tf.summary.FileWriter(\"./logs\", sess.graph)"
      ],
      "execution_count": 8,
      "outputs": [
        {
          "output_type": "stream",
          "text": [
            "900\n"
          ],
          "name": "stdout"
        },
        {
          "output_type": "execute_result",
          "data": {
            "text/plain": [
              "<tensorflow.python.summary.writer.writer.FileWriter at 0x7fa1d0bd6828>"
            ]
          },
          "metadata": {
            "tags": []
          },
          "execution_count": 8
        }
      ]
    },
    {
      "metadata": {
        "id": "Ytof2g9jevL7",
        "colab_type": "text"
      },
      "cell_type": "markdown",
      "source": [
        "test_var_tb.py"
      ]
    },
    {
      "metadata": {
        "id": "7irFzLRBe2XU",
        "colab_type": "code",
        "colab": {
          "base_uri": "https://localhost:8080/",
          "height": 35
        },
        "outputId": "3edea488-09ac-4ea1-8d9f-78e8d20e10c0"
      },
      "cell_type": "code",
      "source": [
        "import tensorflow as tf\n",
        "\n",
        "v = tf.Variable(0, name=\"v\")\n",
        "\n",
        "a = tf.constant(10, name=\"10\")\n",
        "b = tf.constant(20, name=\"20\")\n",
        "c = tf.constant(30, name=\"30\")\n",
        "\n",
        "mul_op = tf.multiply(a, b, name=\"mul\")\n",
        "assign_op = tf.assign(v, mul_op)\n",
        "\n",
        "sess = tf.Session()\n",
        "\n",
        "sess.run(assign_op)\n",
        "\n",
        "tf.summary.FileWriter(\"./logs\", sess.graph)\n",
        "\n",
        "res = sess.run(v)\n",
        "print(res)"
      ],
      "execution_count": 9,
      "outputs": [
        {
          "output_type": "stream",
          "text": [
            "200\n"
          ],
          "name": "stdout"
        }
      ]
    },
    {
      "metadata": {
        "id": "vaDu7l6gqsZG",
        "colab_type": "text"
      },
      "cell_type": "markdown",
      "source": [
        "test_placeholder.py"
      ]
    },
    {
      "metadata": {
        "id": "oMeZSasnfjZt",
        "colab_type": "code",
        "colab": {
          "base_uri": "https://localhost:8080/",
          "height": 53
        },
        "outputId": "47ef0fc0-c8b4-4b1d-e255-0e945706c99c"
      },
      "cell_type": "code",
      "source": [
        "import tensorflow as tf\n",
        "\n",
        "#ブレースホルダを定義\n",
        "a = tf.placeholder(tf.int32, [5])\n",
        "\n",
        "#ベクトルを2倍にする演算を定義\n",
        "two = tf.constant(2)\n",
        "x2_op = a * two\n",
        "\n",
        "\n",
        "sess = tf.Session()\n",
        "\n",
        "res1 = sess.run(x2_op, feed_dict={a:[1, 2, 3, 4, 5]})\n",
        "print(res1)\n",
        "res2 = sess.run(x2_op, feed_dict={a:[5, 6, 7, 10, 100]})\n",
        "print(res2)"
      ],
      "execution_count": 11,
      "outputs": [
        {
          "output_type": "stream",
          "text": [
            "[ 2  4  6  8 10]\n",
            "[ 10  12  14  20 200]\n"
          ],
          "name": "stdout"
        }
      ]
    },
    {
      "metadata": {
        "id": "-hp-9O27r9b9",
        "colab_type": "text"
      },
      "cell_type": "markdown",
      "source": [
        "test_placeholder2.py"
      ]
    },
    {
      "metadata": {
        "id": "dJvrECQCrU3i",
        "colab_type": "code",
        "colab": {
          "base_uri": "https://localhost:8080/",
          "height": 89
        },
        "outputId": "68522dfd-efb0-436b-b8a6-c8dabb748b28"
      },
      "cell_type": "code",
      "source": [
        "import tensorflow as tf\n",
        "\n",
        "a = tf.placeholder(tf.int32, [None, 2])\n",
        "\n",
        "two = tf.constant(2)\n",
        "x2_op = a * two\n",
        "\n",
        "\n",
        "sess = tf.Session()\n",
        "\n",
        "sample_list = [[1, 1], [2, 2], [3, 3], [4, 4]]\n",
        "res = sess.run(x2_op, feed_dict={a:sample_list})\n",
        "print(res)"
      ],
      "execution_count": 13,
      "outputs": [
        {
          "output_type": "stream",
          "text": [
            "[[2 2]\n",
            " [4 4]\n",
            " [6 6]\n",
            " [8 8]]\n"
          ],
          "name": "stdout"
        }
      ]
    }
  ]
}